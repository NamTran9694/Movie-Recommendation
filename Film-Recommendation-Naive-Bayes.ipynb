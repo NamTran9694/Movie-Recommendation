{
 "cells": [
  {
   "cell_type": "markdown",
   "id": "d4e7272b",
   "metadata": {},
   "source": [
    "# Film Recommendation with Naive Bayes"
   ]
  },
  {
   "cell_type": "code",
   "execution_count": 1,
   "id": "c8a7f24d",
   "metadata": {},
   "outputs": [],
   "source": [
    "import numpy as np\n",
    "from collections import defaultdict\n",
    "data_path ='ratings.csv'\n",
    "n_users = 610\n",
    "n_movies = 9724"
   ]
  },
  {
   "cell_type": "markdown",
   "id": "b436437e",
   "metadata": {},
   "source": [
    "### Load Data\n",
    "* The data set include 610 users and 9724 movies\n",
    "* Load data set, transform data from long data into wide data. \n",
    "* Create a list called movie_n_rating to count the number of rating of each movie\n",
    "* Crate a list called movie_id_mapping to store the location of movie_id in data table"
   ]
  },
  {
   "cell_type": "code",
   "execution_count": 3,
   "id": "e351b83d",
   "metadata": {},
   "outputs": [],
   "source": [
    "def load_rating_data(data_path, n_users, n_movies):\n",
    "    data = np.zeros([n_users, n_movies], dtype=np.float32)\n",
    "    movie_id_mapping ={}\n",
    "    movie_n_rating = defaultdict(int)\n",
    "    with open(data_path, 'r') as file:\n",
    "        for line in file.readlines()[1:]:\n",
    "            user_id, movie_id, rating, _ = line.split(\",\")\n",
    "            user_id = int(user_id) - 1\n",
    "            if movie_id not in movie_id_mapping:\n",
    "                movie_id_mapping[movie_id] = len(movie_id_mapping)\n",
    "            rating = float(rating)\n",
    "            data[user_id, movie_id_mapping[movie_id]] = rating\n",
    "            if rating > 0:\n",
    "                movie_n_rating[movie_id] += 1\n",
    "    return data, movie_n_rating, movie_id_mapping\n",
    "\n",
    "data, movie_n_rating, movie_id_mapping = load_rating_data(data_path, n_users, n_movies)"
   ]
  },
  {
   "cell_type": "code",
   "execution_count": 4,
   "id": "a5da0ae7",
   "metadata": {
    "scrolled": false
   },
   "outputs": [
    {
     "name": "stdout",
     "output_type": "stream",
     "text": [
      "Number of rating 0.0: 5830804\n",
      "Number of rating 0.5: 1370\n",
      "Number of rating 1.0: 2811\n",
      "Number of rating 1.5: 1791\n",
      "Number of rating 2.0: 7551\n",
      "Number of rating 2.5: 5550\n",
      "Number of rating 3.0: 20047\n",
      "Number of rating 3.5: 13136\n",
      "Number of rating 4.0: 26818\n",
      "Number of rating 4.5: 8551\n",
      "Number of rating 5.0: 13211\n"
     ]
    }
   ],
   "source": [
    "def display_distribution(data):\n",
    "    values, counts = np.unique(data, return_counts=True)\n",
    "    for value, count in zip(values, counts):\n",
    "        print(f'Number of rating {float(value)}: {count}')\n",
    "\n",
    "display_distribution(data)"
   ]
  },
  {
   "cell_type": "markdown",
   "id": "9ebd1126",
   "metadata": {},
   "source": [
    "* Rating 0 means that the user does provide rates for that movies\n",
    "* 26.6% are of rataing 4, follow by 19% of rating 3, then 13% are of rating 5 and 3.5.\n",
    "* rating 0.5, 1, 1.5, 2, 2.5, and 4.5 count for 1.3%, 2.8%, 1.8%, 7.5%, 5.5%, and 8.5% respectively. "
   ]
  },
  {
   "cell_type": "markdown",
   "id": "38253856",
   "metadata": {},
   "source": [
    "### ---------------------------------------------------------------------------------------------------\n",
    "* we will take the movie with most ratings as the target movie (outcome)"
   ]
  },
  {
   "cell_type": "code",
   "execution_count": 5,
   "id": "50f9b206",
   "metadata": {},
   "outputs": [
    {
     "name": "stdout",
     "output_type": "stream",
     "text": [
      "Movie ID 356 has 329 ratings\n"
     ]
    }
   ],
   "source": [
    "movie_id_most, n_rating_most = sorted(movie_n_rating.items(),key = lambda d: d[1],reverse = True)[0]\n",
    "print(f'Movie ID {movie_id_most} has {n_rating_most} ratings')"
   ]
  },
  {
   "cell_type": "markdown",
   "id": "cd5ffb9c",
   "metadata": {},
   "source": [
    "* The ratings of the rest movies of users are predictors.\n",
    "* We will construct the input dataset by removing variable movie_id 356 out of the data"
   ]
  },
  {
   "cell_type": "code",
   "execution_count": 6,
   "id": "29f670b4",
   "metadata": {},
   "outputs": [],
   "source": [
    "X_raw = np.delete(data, movie_id_mapping[movie_id_most], axis =1)\n",
    "Y_raw = data[:, movie_id_mapping[movie_id_most]]"
   ]
  },
  {
   "cell_type": "markdown",
   "id": "d7af4d01",
   "metadata": {},
   "source": [
    "* We will remove users who did not rate movie_id 356."
   ]
  },
  {
   "cell_type": "code",
   "execution_count": 7,
   "id": "596e488c",
   "metadata": {},
   "outputs": [
    {
     "name": "stdout",
     "output_type": "stream",
     "text": [
      "Shape of X:  (329, 9723)\n",
      "shape of Y:  (329,)\n"
     ]
    }
   ],
   "source": [
    "X = X_raw[Y_raw >0]\n",
    "Y = Y_raw[Y_raw >0]\n",
    "print(f'Shape of X: ', X.shape)\n",
    "print(f'shape of Y: ', Y.shape)"
   ]
  },
  {
   "cell_type": "markdown",
   "id": "4a5a9e48",
   "metadata": {},
   "source": [
    "* Looking at the distribution of the outcome (target movie ratings):"
   ]
  },
  {
   "cell_type": "code",
   "execution_count": 8,
   "id": "12399bff",
   "metadata": {},
   "outputs": [
    {
     "name": "stdout",
     "output_type": "stream",
     "text": [
      "Number of rating 0.5: 1\n",
      "Number of rating 1.0: 1\n",
      "Number of rating 2.0: 9\n",
      "Number of rating 2.5: 3\n",
      "Number of rating 3.0: 39\n",
      "Number of rating 3.5: 27\n",
      "Number of rating 4.0: 94\n",
      "Number of rating 4.5: 39\n",
      "Number of rating 5.0: 116\n"
     ]
    }
   ],
   "source": [
    "display_distribution(Y)"
   ]
  },
  {
   "cell_type": "markdown",
   "id": "5a08a337",
   "metadata": {},
   "source": [
    "* We can consider movies with rating greater than 3 as being liked (being recommended)"
   ]
  },
  {
   "cell_type": "code",
   "execution_count": 9,
   "id": "2e2576f5",
   "metadata": {},
   "outputs": [
    {
     "name": "stdout",
     "output_type": "stream",
     "text": [
      "276 positive records and 53 negative records\n"
     ]
    }
   ],
   "source": [
    "recommmend = 3\n",
    "Y[Y <= recommmend] = 0\n",
    "Y[Y > recommmend] =1\n",
    "n_pos = (Y ==1).sum()\n",
    "n_neg = (Y ==0).sum()\n",
    "print(f'{n_pos} positive records and {n_neg} negative records')"
   ]
  },
  {
   "cell_type": "markdown",
   "id": "8eb0ac16",
   "metadata": {},
   "source": [
    "### ------------------------------------------------------------------------------------------------------------"
   ]
  },
  {
   "cell_type": "markdown",
   "id": "dc71d421",
   "metadata": {},
   "source": [
    " ### Partition Data"
   ]
  },
  {
   "cell_type": "code",
   "execution_count": 10,
   "id": "f7d828a0",
   "metadata": {},
   "outputs": [
    {
     "name": "stdout",
     "output_type": "stream",
     "text": [
      "230 99\n"
     ]
    }
   ],
   "source": [
    "from sklearn.model_selection import train_test_split\n",
    "X_train, X_test, Y_train, Y_test = train_test_split(X, Y, test_size= 0.3, random_state= 9)\n",
    "print(len(Y_train),len(Y_test))"
   ]
  },
  {
   "cell_type": "markdown",
   "id": "e973a146",
   "metadata": {},
   "source": [
    "### ------------------------------------------------------------------------------------------------------------"
   ]
  },
  {
   "cell_type": "markdown",
   "id": "fbc0ee04",
   "metadata": {},
   "source": [
    "### Naive Bayes Model"
   ]
  },
  {
   "cell_type": "code",
   "execution_count": 11,
   "id": "2b45c1b9",
   "metadata": {},
   "outputs": [
    {
     "data": {
      "text/plain": [
       "MultinomialNB()"
      ]
     },
     "execution_count": 11,
     "metadata": {},
     "output_type": "execute_result"
    }
   ],
   "source": [
    "from sklearn.naive_bayes import MultinomialNB\n",
    "clf = MultinomialNB(alpha=1.0, fit_prior= True)\n",
    "clf.fit(X_train, Y_train)"
   ]
  },
  {
   "cell_type": "markdown",
   "id": "2ef02413",
   "metadata": {},
   "source": [
    "* Fit the model with the test data, we will get the predicted probability:"
   ]
  },
  {
   "cell_type": "code",
   "execution_count": 12,
   "id": "182a22db",
   "metadata": {},
   "outputs": [
    {
     "name": "stdout",
     "output_type": "stream",
     "text": [
      "[[1.00698857e-148 1.00000000e+000]\n",
      " [8.03504640e-074 1.00000000e+000]\n",
      " [9.40973293e-011 1.00000000e+000]\n",
      " [5.27602498e-049 1.00000000e+000]\n",
      " [1.52194739e-073 1.00000000e+000]\n",
      " [3.73499840e-082 1.00000000e+000]\n",
      " [2.56242560e-043 1.00000000e+000]\n",
      " [2.48518264e-066 1.00000000e+000]\n",
      " [1.14094459e-144 1.00000000e+000]\n",
      " [1.74647128e-059 1.00000000e+000]\n",
      " [6.83493162e-039 1.00000000e+000]\n",
      " [1.00000000e+000 2.08371258e-218]\n",
      " [7.26024393e-075 1.00000000e+000]\n",
      " [4.93476865e-089 1.00000000e+000]\n",
      " [4.48059266e-009 9.99999996e-001]\n",
      " [7.18715348e-035 1.00000000e+000]\n",
      " [0.00000000e+000 1.00000000e+000]\n",
      " [1.23414322e-054 1.00000000e+000]\n",
      " [1.50872607e-045 1.00000000e+000]\n",
      " [1.94861921e-071 1.00000000e+000]]\n"
     ]
    }
   ],
   "source": [
    "predicted_prob = clf.predict_proba(X_test)\n",
    "print(predicted_prob[0:20])"
   ]
  },
  {
   "cell_type": "markdown",
   "id": "04dd6b3d",
   "metadata": {},
   "source": [
    "* Predicted calss"
   ]
  },
  {
   "cell_type": "code",
   "execution_count": 13,
   "id": "2658f820",
   "metadata": {},
   "outputs": [
    {
     "name": "stdout",
     "output_type": "stream",
     "text": [
      "[1. 1. 1. 1. 1. 1. 1. 1. 1. 1. 1. 0. 1. 1. 1. 1. 1. 1. 1. 1.]\n"
     ]
    }
   ],
   "source": [
    "prediction = clf.predict(X_test)\n",
    "print(prediction[0:20])"
   ]
  },
  {
   "cell_type": "markdown",
   "id": "38d78a1c",
   "metadata": {},
   "source": [
    "* Accuracy"
   ]
  },
  {
   "cell_type": "code",
   "execution_count": 14,
   "id": "4b6381ab",
   "metadata": {},
   "outputs": [
    {
     "name": "stdout",
     "output_type": "stream",
     "text": [
      "The accuracy is:  81.8%\n"
     ]
    }
   ],
   "source": [
    "accuracy = clf.score(X_test, Y_test)\n",
    "print(f'The accuracy is: {accuracy*100: .1f}%')"
   ]
  },
  {
   "cell_type": "markdown",
   "id": "b1638824",
   "metadata": {},
   "source": [
    "### ------------------------------------------------------------------------------------------------------------"
   ]
  },
  {
   "cell_type": "markdown",
   "id": "ecd5a340",
   "metadata": {},
   "source": [
    "### Model Evaluation"
   ]
  },
  {
   "cell_type": "markdown",
   "id": "7f1227d0",
   "metadata": {},
   "source": [
    "* Confusion Matrix"
   ]
  },
  {
   "cell_type": "code",
   "execution_count": 15,
   "id": "99a297ad",
   "metadata": {},
   "outputs": [
    {
     "name": "stdout",
     "output_type": "stream",
     "text": [
      "[[ 3 15]\n",
      " [ 3 78]]\n"
     ]
    }
   ],
   "source": [
    "from sklearn.metrics import confusion_matrix\n",
    "print(confusion_matrix(Y_test, prediction, labels= [0,1]))"
   ]
  },
  {
   "cell_type": "markdown",
   "id": "4912ae4a",
   "metadata": {},
   "source": [
    "* Precision, Recall, f1"
   ]
  },
  {
   "cell_type": "code",
   "execution_count": 18,
   "id": "cf46eed4",
   "metadata": {},
   "outputs": [
    {
     "name": "stdout",
     "output_type": "stream",
     "text": [
      "              precision    recall  f1-score   support\n",
      "\n",
      "         0.0       0.50      0.17      0.25        18\n",
      "         1.0       0.84      0.96      0.90        81\n",
      "\n",
      "    accuracy                           0.82        99\n",
      "   macro avg       0.67      0.56      0.57        99\n",
      "weighted avg       0.78      0.82      0.78        99\n",
      "\n"
     ]
    }
   ],
   "source": [
    "from sklearn.metrics import classification_report\n",
    "report = classification_report(Y_test, prediction)\n",
    "print(report)"
   ]
  },
  {
   "cell_type": "markdown",
   "id": "a901263a",
   "metadata": {},
   "source": [
    "* ROC Curve"
   ]
  },
  {
   "cell_type": "code",
   "execution_count": 37,
   "id": "9198131b",
   "metadata": {},
   "outputs": [],
   "source": [
    "pos_prob = predicted_prob[:,1]\n",
    "thresholds = np.arange(0.0,1.1,0.05)\n",
    "true_pos, false_pos = [0]*len(thresholds), [0]*len(thresholds)\n",
    "for pred, y in zip(pos_prob, Y_test):\n",
    "    for i, threshold in enumerate(thresholds):\n",
    "        if pred >= threshold:\n",
    "            if y==1:\n",
    "                true_pos[i] +=1\n",
    "            else:\n",
    "                false_pos[i] +=1\n",
    "        else:\n",
    "            break"
   ]
  },
  {
   "cell_type": "code",
   "execution_count": 38,
   "id": "9fb5c6f3",
   "metadata": {},
   "outputs": [],
   "source": [
    "n_pos_test = (Y_test == 1).sum()\n",
    "n_neg_test = (Y_test == 0).sum()\n",
    "true_pos_rate = [tp / n_pos_test for tp in true_pos]\n",
    "false_pos_rate = [fp / n_neg_test for fp in false_pos]"
   ]
  },
  {
   "cell_type": "code",
   "execution_count": 40,
   "id": "c033cf1a",
   "metadata": {},
   "outputs": [
    {
     "name": "stderr",
     "output_type": "stream",
     "text": [
      "No handles with labels found to put in legend.\n"
     ]
    },
    {
     "data": {
      "image/png": "[encoded data removed]",
      "text/plain": [
       "<Figure size 432x288 with 1 Axes>"
      ]
     },
     "metadata": {
      "needs_background": "light"
     },
     "output_type": "display_data"
    }
   ],
   "source": [
    "import matplotlib.pyplot as plt\n",
    "plt.figure()\n",
    "lw = 1\n",
    "plt.plot(false_pos_rate, true_pos_rate, color ='darkgreen', lw = lw)\n",
    "plt.plot([0,1],[0,1], color = 'grey', lw = lw, linestyle ='--')\n",
    "plt.xlim([0.0,1.0])\n",
    "plt.ylim([0.0,1.0])\n",
    "plt.xlabel('False Positive Rate')\n",
    "plt.ylabel('True Positive Rate')\n",
    "plt.title('Receiver Operating Characteristic')\n",
    "plt.legend(loc = \"lower right\")\n",
    "plt.show()"
   ]
  },
  {
   "cell_type": "code",
   "execution_count": 41,
   "id": "62ee4fe1",
   "metadata": {},
   "outputs": [
    {
     "data": {
      "text/plain": [
       "0.5953360768175583"
      ]
     },
     "execution_count": 41,
     "metadata": {},
     "output_type": "execute_result"
    }
   ],
   "source": [
    "from sklearn.metrics import roc_auc_score\n",
    "roc_auc_score(Y_test, pos_prob)"
   ]
  },
  {
   "cell_type": "markdown",
   "id": "5273a69e",
   "metadata": {},
   "source": [
    "### --------------------------------------------------------------------\n",
    "### Turn models with cross-validation"
   ]
  },
  {
   "cell_type": "code",
   "execution_count": 48,
   "id": "ce89fc36",
   "metadata": {},
   "outputs": [],
   "source": [
    "from sklearn.model_selection import StratifiedKFold\n",
    "k = 10\n",
    "k_fold = StratifiedKFold(n_splits= k, shuffle= True)\n",
    "smoothing_factor_option =[1,2,3,4,5,6]\n",
    "fit_prior_option =[True, False]\n",
    "auc_record ={}"
   ]
  },
  {
   "cell_type": "code",
   "execution_count": 49,
   "id": "bd0bd7ad",
   "metadata": {},
   "outputs": [],
   "source": [
    "for train_indices, test_indices in k_fold.split(X, Y):\n",
    "    X_train, X_test = X[train_indices], X[test_indices]\n",
    "    Y_train, Y_test = Y[train_indices], Y[test_indices]\n",
    "    for alpha in smoothing_factor_option:\n",
    "        if alpha not in auc_record:\n",
    "            auc_record[alpha] = {}\n",
    "        for fit_prior in fit_prior_option:\n",
    "            clf = MultinomialNB(alpha=alpha,fit_prior=fit_prior)\n",
    "            clf.fit(X_train, Y_train)\n",
    "            prediction_prob = clf.predict_proba(X_test)\n",
    "            pos_prob = prediction_prob[:, 1]\n",
    "            auc = roc_auc_score(Y_test, pos_prob)\n",
    "            auc_record[alpha][fit_prior] = auc + auc_record[alpha].get(fit_prior, 0.0)"
   ]
  },
  {
   "cell_type": "code",
   "execution_count": 50,
   "id": "796c2b42",
   "metadata": {},
   "outputs": [
    {
     "name": "stdout",
     "output_type": "stream",
     "text": [
      " 1 True  0.60707\n",
      " 1 False  0.60353\n",
      " 2 True  0.60149\n",
      " 2 False  0.60149\n",
      " 3 True  0.57979\n",
      " 3 False  0.58759\n",
      " 4 True  0.56407\n",
      " 4 False  0.57178\n",
      " 5 True  0.56585\n",
      " 5 False  0.56585\n",
      " 6 True  0.56723\n",
      " 6 False  0.56569\n"
     ]
    }
   ],
   "source": [
    "for smoothing, smoothing_record in auc_record.items():\n",
    "    for fit_prior, auc in smoothing_record.items():\n",
    "        print(f' {smoothing} {fit_prior}  {auc/k:.5f}')"
   ]
  },
  {
   "cell_type": "code",
   "execution_count": 52,
   "id": "771b0954",
   "metadata": {},
   "outputs": [
    {
     "name": "stdout",
     "output_type": "stream",
     "text": [
      "AUC with the best model: 0.5629629629629629\n"
     ]
    }
   ],
   "source": [
    "clf = MultinomialNB(alpha=2.0, fit_prior=False)\n",
    "clf.fit(X_train, Y_train)\n",
    "pos_prob = clf.predict_proba(X_test)[:, 1]\n",
    "print('AUC with the best model:', roc_auc_score(Y_test,pos_prob))"
   ]
  },
  {
   "cell_type": "code",
   "execution_count": null,
   "id": "9115f461",
   "metadata": {},
   "outputs": [],
   "source": []
  }
 ],
 "metadata": {
  "kernelspec": {
   "display_name": "Python 3 (ipykernel)",
   "language": "python",
   "name": "python3"
  },
  "language_info": {
   "codemirror_mode": {
    "name": "ipython",
    "version": 3
   },
   "file_extension": ".py",
   "mimetype": "text/x-python",
   "name": "python",
   "nbconvert_exporter": "python",
   "pygments_lexer": "ipython3",
   "version": "3.8.5"
  }
 },
 "nbformat": 4,
 "nbformat_minor": 5
}
